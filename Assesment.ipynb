{
 "cells": [
  {
   "cell_type": "code",
   "execution_count": 1,
   "metadata": {
    "metadata": {}
   },
   "outputs": [
    {
     "name": "stdout",
     "output_type": "stream",
     "text": [
      "Body mass index: 24.25\n",
      "Body mass index: 24.25\n",
      "You are fit!\n"
     ]
    }
   ],
   "source": [
    "weight=int(input(\"Enter the weigh in the unit Kg\"))\n",
    "height=int(input(\"Enter the height in the unit cm\")) / 100\n",
    "\n",
    "bmi=weight/height**2\n",
    "print(f\"Body mass index: {bmi:.2f}\")\n",
    "print(f\"Body mass index: {round(bmi,2)}\")\n",
    "if bmi<18.5:\n",
    "    print(\"You are underweighted\")\n",
    "elif bmi<25 and bmi>18.5:\n",
    "    print(\"You are fit!\")\n",
    "elif bmi>25 and bmi<30:\n",
    "    print(\"you are overweighted\")\n",
    "else:\n",
    "    print(\"you are obess\")            \n",
    "\n"
   ]
  },
  {
   "cell_type": "code",
   "execution_count": null,
   "metadata": {},
   "outputs": [],
   "source": []
  }
 ],
 "metadata": {
  "kernelspec": {
   "display_name": "Python 3",
   "language": "python",
   "name": "python3"
  },
  "language_info": {
   "codemirror_mode": {
    "name": "ipython",
    "version": 3
   },
   "file_extension": ".py",
   "mimetype": "text/x-python",
   "name": "python",
   "nbconvert_exporter": "python",
   "pygments_lexer": "ipython3",
   "version": "3.11.4"
  }
 },
 "nbformat": 4,
 "nbformat_minor": 2
}
