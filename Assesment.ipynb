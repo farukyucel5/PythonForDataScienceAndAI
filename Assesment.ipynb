{
 "cells": [
  {
   "cell_type": "code",
   "execution_count": 1,
   "metadata": {
    "metadata": {}
   },
   "outputs": [
    {
     "name": "stdout",
     "output_type": "stream",
     "text": [
      "Body mass index: 24.25\n",
      "Body mass index: 24.25\n",
      "You are fit!\n"
     ]
    }
   ],
   "source": [
    "weight=int(input(\"Enter the weigh in the unit Kg\"))\n",
    "height=int(input(\"Enter the height in the unit cm\")) / 100\n",
    "\n",
    "bmi=weight/height**2\n",
    "print(f\"Body mass index: {bmi:.2f}\")\n",
    "print(f\"Body mass index: {round(bmi,2)}\")\n",
    "if bmi<18.5:\n",
    "    print(\"You are underweighted\")\n",
    "elif bmi<25 and bmi>18.5:\n",
    "    print(\"You are fit!\")\n",
    "elif bmi>25 and bmi<30:\n",
    "    print(\"you are overweighted\")\n",
    "else:\n",
    "    print(\"you are obess\")            \n",
    "\n"
   ]
  },
  {
   "cell_type": "code",
   "execution_count": 1,
   "metadata": {},
   "outputs": [
    {
     "name": "stdout",
     "output_type": "stream",
     "text": [
      "Eksik sayılar: [8, 12, 14, 23, 25, 31, 32, 38, 40, 43, 49]\n"
     ]
    }
   ],
   "source": [
    "number_list = [48, 10, 11, 21, 36, 5, 6, 52, 28, 29,\n",
    "               53, 54, 45, 19, 20, 47, 55, 39, 41, 7,\n",
    "               9, 17, 26, 27, 42, 22, 37, 51, 46, 18,\n",
    "               44, 30, 34, 13, 15, 35, 33, 16, 50, 24]\n",
    "\n",
    "min_value = min(number_list)\n",
    "max_value = max(number_list)\n",
    "\n",
    "missing_numbers = []\n",
    "\n",
    "for num in range(min_value, max_value + 1):\n",
    "    if num not in number_list:\n",
    "        missing_numbers.append(num)\n",
    "\n",
    "print(\"Eksik sayılar:\", missing_numbers)\n"
   ]
  },
  {
   "cell_type": "code",
   "execution_count": 3,
   "metadata": {},
   "outputs": [
    {
     "data": {
      "text/plain": [
       "[1, 15, 5, 89, 45, 71, 45, 95, 61]"
      ]
     },
     "execution_count": 3,
     "metadata": {},
     "output_type": "execute_result"
    }
   ],
   "source": [
    "sayılar_listesi = [1, 15, 2, 36, 5, 89, 45, 62, 52, 71, 30, 56, 45, 95, 61, 48]\n",
    "\n",
    "[sayı for sayı in sayılar_listesi if sayı % 2 != 0]\n",
    "\n"
   ]
  },
  {
   "cell_type": "code",
   "execution_count": 4,
   "metadata": {},
   "outputs": [],
   "source": [
    "liste2=[\"Ahmet\",\"Faruk\",\"Furkan\"]"
   ]
  },
  {
   "cell_type": "code",
   "execution_count": 7,
   "metadata": {},
   "outputs": [
    {
     "data": {
      "text/plain": [
       "['Faruk', 'Furkan']"
      ]
     },
     "execution_count": 7,
     "metadata": {},
     "output_type": "execute_result"
    }
   ],
   "source": [
    "[i for i in liste2 if i.startswith(\"F\")]"
   ]
  },
  {
   "cell_type": "code",
   "execution_count": 1,
   "metadata": {},
   "outputs": [
    {
     "name": "stdout",
     "output_type": "stream",
     "text": [
      "113 is a prime number\n"
     ]
    }
   ],
   "source": [
    "def primeNumber(a):\n",
    "    count=0\n",
    "    for i in range(1,a+1):\n",
    "        if a%i==0:\n",
    "            count+=1\n",
    "    if count==2:\n",
    "        print(f\"{a} is a prime number\")        \n",
    "    else:\n",
    "        print(f\"{a} is not a prime number\")        \n",
    "\n",
    "primeNumber(113)"
   ]
  },
  {
   "cell_type": "code",
   "execution_count": 1,
   "metadata": {},
   "outputs": [
    {
     "data": {
      "text/plain": [
       "[20, 21, 22, 23, 24, 25, 26, 27, 28, 29, 30]"
      ]
     },
     "execution_count": 1,
     "metadata": {},
     "output_type": "execute_result"
    }
   ],
   "source": [
    "list(filter((lambda x: x>=15 and x<=30),list(range(20,45))))"
   ]
  },
  {
   "cell_type": "code",
   "execution_count": 2,
   "metadata": {},
   "outputs": [],
   "source": [
    "import random"
   ]
  },
  {
   "cell_type": "code",
   "execution_count": 4,
   "metadata": {},
   "outputs": [
    {
     "data": {
      "text/plain": [
       "[82,\n",
       " 15,\n",
       " 4,\n",
       " 95,\n",
       " 36,\n",
       " 32,\n",
       " 29,\n",
       " 18,\n",
       " 14,\n",
       " 87,\n",
       " 70,\n",
       " 12,\n",
       " 76,\n",
       " 55,\n",
       " 5,\n",
       " 97,\n",
       " 88,\n",
       " 28,\n",
       " 30,\n",
       " 65,\n",
       " 78,\n",
       " 84,\n",
       " 72]"
      ]
     },
     "execution_count": 4,
     "metadata": {},
     "output_type": "execute_result"
    }
   ],
   "source": [
    "random.seed(42)\n",
    "random.sample(range(1,100),23)"
   ]
  },
  {
   "cell_type": "code",
   "execution_count": null,
   "metadata": {},
   "outputs": [],
   "source": []
  }
 ],
 "metadata": {
  "kernelspec": {
   "display_name": "Python 3",
   "language": "python",
   "name": "python3"
  },
  "language_info": {
   "codemirror_mode": {
    "name": "ipython",
    "version": 3
   },
   "file_extension": ".py",
   "mimetype": "text/x-python",
   "name": "python",
   "nbconvert_exporter": "python",
   "pygments_lexer": "ipython3",
   "version": "3.11.4"
  }
 },
 "nbformat": 4,
 "nbformat_minor": 2
}
