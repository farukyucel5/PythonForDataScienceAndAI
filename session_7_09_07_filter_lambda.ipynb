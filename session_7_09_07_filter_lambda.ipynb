{
 "cells": [
  {
   "cell_type": "markdown",
   "metadata": {},
   "source": [
    "Anne, baba ve çocuktan oluşan çekirdek ailenin Süper aile olup olmadığını bulan kodu yazın. isimleri kullanıcıdan isteyin. (Çocuğun ismindeki sessiz harflerin hepsi, anne ve babanın isimlerinde var ise bu aile süper ailedir.(Not: anne ve baba isminden en az bir tane olmalı.). örn1: baba adı = \"Halil\", anne adı= \"Merve\", çocuk adı= \"Veli\" >> Süper aile. (\"v\" anneden, \"l\" babadan) örn2: baba adı = \"Murat\", anne adı= \"Songül\", çocuk adı= \"Mert\" >> Süper aile değil. Anneden harf yok. "
   ]
  },
  {
   "cell_type": "code",
   "execution_count": null,
   "metadata": {},
   "outputs": [],
   "source": []
  },
  {
   "cell_type": "code",
   "execution_count": 2,
   "metadata": {},
   "outputs": [],
   "source": [
    "def isSuperFamily(anne, baba, cocuk):\n",
    "\n",
    "    anne = anne.lower()\n",
    "    baba = baba.lower()\n",
    "    cocuk = cocuk.lower()\n",
    "\n",
    "    cocuk_sessiz_harfler = \"\"\n",
    "\n",
    "    for i in cocuk:\n",
    "        if i not in \"aeıioöuü\":\n",
    "            cocuk_sessiz_harfler += i\n",
    "\n",
    "    if len(set(anne) & set(cocuk_sessiz_harfler)) > 0 and len(set(baba) & set(cocuk_sessiz_harfler)) > 0 and set(cocuk_sessiz_harfler).issubset(set(anne) | set(baba)): \n",
    "        print(\"Bu aile süper ailedir.\")\n",
    "    else:\n",
    "        print(\"Bu aile super aile değildir.\")\n"
   ]
  },
  {
   "cell_type": "code",
   "execution_count": 3,
   "metadata": {},
   "outputs": [
    {
     "name": "stdout",
     "output_type": "stream",
     "text": [
      "Bu aile süper ailedir.\n"
     ]
    }
   ],
   "source": [
    "isSuperFamily(\"halil\", \"merve\", \"veli\")"
   ]
  },
  {
   "cell_type": "code",
   "execution_count": 4,
   "metadata": {},
   "outputs": [
    {
     "name": "stdout",
     "output_type": "stream",
     "text": [
      "Bu aile super aile değildir.\n"
     ]
    }
   ],
   "source": [
    "isSuperFamily(\"murat\", \"Songül\", \"mert\")"
   ]
  },
  {
   "cell_type": "code",
   "execution_count": 6,
   "metadata": {},
   "outputs": [
    {
     "name": "stdout",
     "output_type": "stream",
     "text": [
      "Bu aile süper ailedir.\n"
     ]
    }
   ],
   "source": [
    "isSuperFamily(\"halil\", \"Songül\", \"ali\")"
   ]
  },
  {
   "cell_type": "code",
   "execution_count": 7,
   "metadata": {},
   "outputs": [
    {
     "name": "stdout",
     "output_type": "stream",
     "text": [
      "Bu aile super aile değildir.\n"
     ]
    }
   ],
   "source": [
    "isSuperFamily(\"halil\", \"merve\", \"velican\")"
   ]
  },
  {
   "cell_type": "code",
   "execution_count": 8,
   "metadata": {},
   "outputs": [
    {
     "name": "stdout",
     "output_type": "stream",
     "text": [
      "Bu aile super aile değildir.\n"
     ]
    }
   ],
   "source": [
    "anne = input(\"Annenin ismini girin\")\n",
    "baba = input(\"Babanın ismini girin\")\n",
    "cocuk = input(\"Cocuğun ismini girin\")\n",
    "\n",
    "isSuperFamily(anne, baba, cocuk)\n"
   ]
  },
  {
   "cell_type": "markdown",
   "metadata": {},
   "source": [
    "## Arbitrary Number of Arguments(* args, **kwargs)"
   ]
  },
  {
   "cell_type": "markdown",
   "metadata": {},
   "source": [
    "## **kwargs"
   ]
  },
  {
   "cell_type": "code",
   "execution_count": 9,
   "metadata": {},
   "outputs": [
    {
     "data": {
      "text/plain": [
       "{'name1': 'Arzu', 'name2': 'Ömer', 'name3': 'Hamdi'}"
      ]
     },
     "execution_count": 9,
     "metadata": {},
     "output_type": "execute_result"
    }
   ],
   "source": [
    "dict_1 = {\"name1\": \"Arzu\", \"name2\": \"Ömer\", \"name3\": \"Hamdi\"}\n",
    "dict_1 "
   ]
  },
  {
   "cell_type": "code",
   "execution_count": 10,
   "metadata": {},
   "outputs": [
    {
     "data": {
      "text/plain": [
       "dict_items([('name1', 'Arzu'), ('name2', 'Ömer'), ('name3', 'Hamdi')])"
      ]
     },
     "execution_count": 10,
     "metadata": {},
     "output_type": "execute_result"
    }
   ],
   "source": [
    "dict_1.items()"
   ]
  },
  {
   "cell_type": "code",
   "execution_count": 11,
   "metadata": {},
   "outputs": [],
   "source": [
    "def kwargs_function(** names):\n",
    "\n",
    "    for i, j in names.items():\n",
    "\n",
    "        print(f\"key: {i}, value: {j}\")"
   ]
  },
  {
   "cell_type": "code",
   "execution_count": 12,
   "metadata": {},
   "outputs": [
    {
     "ename": "TypeError",
     "evalue": "kwargs_function() takes 0 positional arguments but 1 was given",
     "output_type": "error",
     "traceback": [
      "\u001b[1;31m---------------------------------------------------------------------------\u001b[0m",
      "\u001b[1;31mTypeError\u001b[0m                                 Traceback (most recent call last)",
      "Cell \u001b[1;32mIn[12], line 1\u001b[0m\n\u001b[1;32m----> 1\u001b[0m \u001b[43mkwargs_function\u001b[49m\u001b[43m(\u001b[49m\u001b[38;5;124;43m\"\u001b[39;49m\u001b[38;5;124;43msedat\u001b[39;49m\u001b[38;5;124;43m\"\u001b[39;49m\u001b[43m)\u001b[49m\n",
      "\u001b[1;31mTypeError\u001b[0m: kwargs_function() takes 0 positional arguments but 1 was given"
     ]
    }
   ],
   "source": [
    "kwargs_function(\"sedat\")"
   ]
  },
  {
   "cell_type": "code",
   "execution_count": 13,
   "metadata": {},
   "outputs": [
    {
     "name": "stdout",
     "output_type": "stream",
     "text": [
      "key: name4, value: Berk\n",
      "key: name5, value: Ramazan\n"
     ]
    }
   ],
   "source": [
    "kwargs_function(name4 = \"Berk\", name5 = \"Ramazan\")"
   ]
  },
  {
   "cell_type": "code",
   "execution_count": 14,
   "metadata": {},
   "outputs": [
    {
     "name": "stdout",
     "output_type": "stream",
     "text": [
      "key: name4, value: Berk\n",
      "key: name5, value: Ramazan\n",
      "key: name6, value: Yasin\n"
     ]
    }
   ],
   "source": [
    "kwargs_function(name4 = \"Berk\", name5 = \"Ramazan\", name6= \"Yasin\")"
   ]
  },
  {
   "cell_type": "code",
   "execution_count": 15,
   "metadata": {},
   "outputs": [
    {
     "ename": "TypeError",
     "evalue": "kwargs_function() takes 0 positional arguments but 1 was given",
     "output_type": "error",
     "traceback": [
      "\u001b[1;31m---------------------------------------------------------------------------\u001b[0m",
      "\u001b[1;31mTypeError\u001b[0m                                 Traceback (most recent call last)",
      "Cell \u001b[1;32mIn[15], line 1\u001b[0m\n\u001b[1;32m----> 1\u001b[0m \u001b[43mkwargs_function\u001b[49m\u001b[43m(\u001b[49m\u001b[43mdict_1\u001b[49m\u001b[43m)\u001b[49m\n",
      "\u001b[1;31mTypeError\u001b[0m: kwargs_function() takes 0 positional arguments but 1 was given"
     ]
    }
   ],
   "source": [
    "kwargs_function(dict_1)"
   ]
  },
  {
   "cell_type": "code",
   "execution_count": 16,
   "metadata": {},
   "outputs": [
    {
     "name": "stdout",
     "output_type": "stream",
     "text": [
      "key: name1, value: Arzu\n",
      "key: name2, value: Ömer\n",
      "key: name3, value: Hamdi\n"
     ]
    }
   ],
   "source": [
    "kwargs_function(** dict_1)"
   ]
  },
  {
   "cell_type": "markdown",
   "metadata": {},
   "source": [
    "## filter()"
   ]
  },
  {
   "cell_type": "code",
   "execution_count": 17,
   "metadata": {},
   "outputs": [
    {
     "name": "stdout",
     "output_type": "stream",
     "text": [
      "Help on class filter in module builtins:\n",
      "\n",
      "class filter(object)\n",
      " |  filter(function or None, iterable) --> filter object\n",
      " |  \n",
      " |  Return an iterator yielding those items of iterable for which function(item)\n",
      " |  is true. If function is None, return the items that are true.\n",
      " |  \n",
      " |  Methods defined here:\n",
      " |  \n",
      " |  __getattribute__(self, name, /)\n",
      " |      Return getattr(self, name).\n",
      " |  \n",
      " |  __iter__(self, /)\n",
      " |      Implement iter(self).\n",
      " |  \n",
      " |  __next__(self, /)\n",
      " |      Implement next(self).\n",
      " |  \n",
      " |  __reduce__(...)\n",
      " |      Return state information for pickling.\n",
      " |  \n",
      " |  ----------------------------------------------------------------------\n",
      " |  Static methods defined here:\n",
      " |  \n",
      " |  __new__(*args, **kwargs) from builtins.type\n",
      " |      Create and return a new object.  See help(type) for accurate signature.\n",
      "\n"
     ]
    }
   ],
   "source": [
    "help(filter)"
   ]
  },
  {
   "cell_type": "code",
   "execution_count": 18,
   "metadata": {},
   "outputs": [
    {
     "data": {
      "text/plain": [
       "<filter at 0x1e4fa8f59c0>"
      ]
     },
     "execution_count": 18,
     "metadata": {},
     "output_type": "execute_result"
    }
   ],
   "source": [
    "filter(None, \"Hello\")"
   ]
  },
  {
   "cell_type": "code",
   "execution_count": 19,
   "metadata": {},
   "outputs": [
    {
     "data": {
      "text/plain": [
       "['H', 'e', 'l', 'l', 'o']"
      ]
     },
     "execution_count": 19,
     "metadata": {},
     "output_type": "execute_result"
    }
   ],
   "source": [
    "list(filter(None, \"Hello\"))"
   ]
  },
  {
   "cell_type": "code",
   "execution_count": null,
   "metadata": {},
   "outputs": [],
   "source": [
    "filter(None, [1,2,0,True, False, \"\", 0.0, \"Techpro\"])"
   ]
  },
  {
   "cell_type": "code",
   "execution_count": 20,
   "metadata": {},
   "outputs": [
    {
     "data": {
      "text/plain": [
       "[1, 2, True, 'Techpro']"
      ]
     },
     "execution_count": 20,
     "metadata": {},
     "output_type": "execute_result"
    }
   ],
   "source": [
    "list(filter(None, [1,2,0,True, False, \"\", 0.0, \"Techpro\"]))"
   ]
  },
  {
   "cell_type": "code",
   "execution_count": 21,
   "metadata": {},
   "outputs": [],
   "source": [
    "def find_odds(x):\n",
    "\n",
    "    if x % 2 == 1:\n",
    "        return True\n",
    "    else:\n",
    "        return False"
   ]
  },
  {
   "cell_type": "code",
   "execution_count": 22,
   "metadata": {},
   "outputs": [
    {
     "data": {
      "text/plain": [
       "True"
      ]
     },
     "execution_count": 22,
     "metadata": {},
     "output_type": "execute_result"
    }
   ],
   "source": [
    "find_odds(5)"
   ]
  },
  {
   "cell_type": "code",
   "execution_count": 23,
   "metadata": {},
   "outputs": [
    {
     "data": {
      "text/plain": [
       "False"
      ]
     },
     "execution_count": 23,
     "metadata": {},
     "output_type": "execute_result"
    }
   ],
   "source": [
    "find_odds(4)"
   ]
  },
  {
   "cell_type": "code",
   "execution_count": 24,
   "metadata": {},
   "outputs": [
    {
     "data": {
      "text/plain": [
       "[1, 3, 5, 7, 9]"
      ]
     },
     "execution_count": 24,
     "metadata": {},
     "output_type": "execute_result"
    }
   ],
   "source": [
    "list(filter(find_odds, [1,2,3,4,5,6,7,8,9]))"
   ]
  },
  {
   "cell_type": "code",
   "execution_count": 25,
   "metadata": {},
   "outputs": [
    {
     "data": {
      "text/plain": [
       "(1, 3, 5, 7, 9)"
      ]
     },
     "execution_count": 25,
     "metadata": {},
     "output_type": "execute_result"
    }
   ],
   "source": [
    "tuple(filter(find_odds, [1,2,3,4,5,6,7,8,9]))"
   ]
  },
  {
   "cell_type": "code",
   "execution_count": 26,
   "metadata": {},
   "outputs": [],
   "source": [
    "def find_evens(x):\n",
    "\n",
    "    if x % 2 == 1:\n",
    "        return False\n",
    "    else:\n",
    "        return True"
   ]
  },
  {
   "cell_type": "code",
   "execution_count": 27,
   "metadata": {},
   "outputs": [
    {
     "data": {
      "text/plain": [
       "[4, 24, 32, 16, 18]"
      ]
     },
     "execution_count": 27,
     "metadata": {},
     "output_type": "execute_result"
    }
   ],
   "source": [
    "list(filter(find_evens, (5,4,9,15,24,32,16,15,17,18)))"
   ]
  },
  {
   "cell_type": "code",
   "execution_count": 33,
   "metadata": {},
   "outputs": [],
   "source": [
    "isimler_listesi = [\"Serhat\", \"sedat\", \"Metehan\", \"Bahar\", \"cennet\", \"Bilge\" ]"
   ]
  },
  {
   "cell_type": "code",
   "execution_count": 34,
   "metadata": {},
   "outputs": [],
   "source": [
    "def len_5(x):\n",
    "\n",
    "    if len(x) == 5: return True\n"
   ]
  },
  {
   "cell_type": "code",
   "execution_count": 35,
   "metadata": {},
   "outputs": [
    {
     "data": {
      "text/plain": [
       "['sedat', 'Bahar', 'Bilge']"
      ]
     },
     "execution_count": 35,
     "metadata": {},
     "output_type": "execute_result"
    }
   ],
   "source": [
    "list(filter(len_5, isimler_listesi))"
   ]
  },
  {
   "cell_type": "code",
   "execution_count": 36,
   "metadata": {},
   "outputs": [],
   "source": [
    "def isArmstrong(sayı):\n",
    "\n",
    "    sayı = str(sayı)\n",
    "    return sum([ int(i) ** len(sayı)  for i in sayı]) == int(sayı)"
   ]
  },
  {
   "cell_type": "code",
   "execution_count": 38,
   "metadata": {},
   "outputs": [
    {
     "data": {
      "text/plain": [
       "False"
      ]
     },
     "execution_count": 38,
     "metadata": {},
     "output_type": "execute_result"
    }
   ],
   "source": [
    "isArmstrong(408)"
   ]
  },
  {
   "cell_type": "code",
   "execution_count": 43,
   "metadata": {},
   "outputs": [
    {
     "name": "stdout",
     "output_type": "stream",
     "text": [
      "153\n",
      "370\n",
      "371\n",
      "407\n",
      "1634\n",
      "8208\n",
      "9474\n",
      "54748\n",
      "92727\n",
      "93084\n",
      "548834\n",
      "CPU times: total: 5.34 s\n",
      "Wall time: 14.7 s\n"
     ]
    }
   ],
   "source": [
    "%%time\n",
    "for i in range(10, 1000000):\n",
    "\n",
    "    if isArmstrong(i) == True:\n",
    "        print(i)\n"
   ]
  },
  {
   "cell_type": "code",
   "execution_count": 44,
   "metadata": {},
   "outputs": [
    {
     "name": "stdout",
     "output_type": "stream",
     "text": [
      "CPU times: total: 4.73 s\n",
      "Wall time: 7.37 s\n"
     ]
    },
    {
     "data": {
      "text/plain": [
       "[153, 370, 371, 407, 1634, 8208, 9474, 54748, 92727, 93084, 548834]"
      ]
     },
     "execution_count": 44,
     "metadata": {},
     "output_type": "execute_result"
    }
   ],
   "source": [
    "%%time\n",
    "list(filter(isArmstrong, range(10,1000000)))"
   ]
  },
  {
   "cell_type": "markdown",
   "metadata": {},
   "source": [
    "# lambda()"
   ]
  },
  {
   "cell_type": "code",
   "execution_count": 45,
   "metadata": {},
   "outputs": [],
   "source": [
    "def kareler_toplamı(x, y):\n",
    "    return x ** 2 + y ** 2"
   ]
  },
  {
   "cell_type": "code",
   "execution_count": 46,
   "metadata": {},
   "outputs": [
    {
     "data": {
      "text/plain": [
       "25"
      ]
     },
     "execution_count": 46,
     "metadata": {},
     "output_type": "execute_result"
    }
   ],
   "source": [
    "kareler_toplamı(4, 3)"
   ]
  },
  {
   "cell_type": "code",
   "execution_count": 47,
   "metadata": {},
   "outputs": [
    {
     "data": {
      "text/plain": [
       "<function __main__.<lambda>(x, y)>"
      ]
     },
     "execution_count": 47,
     "metadata": {},
     "output_type": "execute_result"
    }
   ],
   "source": [
    "lambda x, y: x ** 2 + y ** 2"
   ]
  },
  {
   "cell_type": "code",
   "execution_count": 48,
   "metadata": {},
   "outputs": [
    {
     "data": {
      "text/plain": [
       "25"
      ]
     },
     "execution_count": 48,
     "metadata": {},
     "output_type": "execute_result"
    }
   ],
   "source": [
    "(lambda x, y: x ** 2 + y ** 2)(4, 3)"
   ]
  },
  {
   "cell_type": "code",
   "execution_count": 49,
   "metadata": {},
   "outputs": [
    {
     "ename": "TypeError",
     "evalue": "<lambda>() missing 1 required positional argument: 'y'",
     "output_type": "error",
     "traceback": [
      "\u001b[1;31m---------------------------------------------------------------------------\u001b[0m",
      "\u001b[1;31mTypeError\u001b[0m                                 Traceback (most recent call last)",
      "Cell \u001b[1;32mIn[49], line 1\u001b[0m\n\u001b[1;32m----> 1\u001b[0m \u001b[43m(\u001b[49m\u001b[38;5;28;43;01mlambda\u001b[39;49;00m\u001b[43m \u001b[49m\u001b[43mx\u001b[49m\u001b[43m,\u001b[49m\u001b[43m \u001b[49m\u001b[43my\u001b[49m\u001b[43m:\u001b[49m\u001b[43m \u001b[49m\u001b[43mx\u001b[49m\u001b[43m \u001b[49m\u001b[38;5;241;43m*\u001b[39;49m\u001b[38;5;241;43m*\u001b[39;49m\u001b[43m \u001b[49m\u001b[38;5;241;43m2\u001b[39;49m\u001b[43m \u001b[49m\u001b[38;5;241;43m+\u001b[39;49m\u001b[43m \u001b[49m\u001b[43my\u001b[49m\u001b[43m \u001b[49m\u001b[38;5;241;43m*\u001b[39;49m\u001b[38;5;241;43m*\u001b[39;49m\u001b[43m \u001b[49m\u001b[38;5;241;43m2\u001b[39;49m\u001b[43m)\u001b[49m\u001b[43m(\u001b[49m\u001b[38;5;241;43m4\u001b[39;49m\u001b[43m)\u001b[49m\n",
      "\u001b[1;31mTypeError\u001b[0m: <lambda>() missing 1 required positional argument: 'y'"
     ]
    }
   ],
   "source": [
    "(lambda x, y: x ** 2 + y ** 2)(4)"
   ]
  },
  {
   "cell_type": "code",
   "execution_count": null,
   "metadata": {},
   "outputs": [],
   "source": [
    "def len_5(x):\n",
    "\n",
    "    if len(x) == 5: return True"
   ]
  },
  {
   "cell_type": "code",
   "execution_count": 50,
   "metadata": {},
   "outputs": [
    {
     "data": {
      "text/plain": [
       "False"
      ]
     },
     "execution_count": 50,
     "metadata": {},
     "output_type": "execute_result"
    }
   ],
   "source": [
    "(lambda x: len(x) == 5)(\"Arzu\")"
   ]
  },
  {
   "cell_type": "code",
   "execution_count": 51,
   "metadata": {},
   "outputs": [
    {
     "data": {
      "text/plain": [
       "True"
      ]
     },
     "execution_count": 51,
     "metadata": {},
     "output_type": "execute_result"
    }
   ],
   "source": [
    "(lambda x: len(x) == 5)(\"Didem\")"
   ]
  },
  {
   "cell_type": "code",
   "execution_count": 56,
   "metadata": {},
   "outputs": [
    {
     "data": {
      "text/plain": [
       "['sedat', 'Bahar', 'Bilge']"
      ]
     },
     "execution_count": 56,
     "metadata": {},
     "output_type": "execute_result"
    }
   ],
   "source": [
    "list(filter((lambda x: len(x) == 5), isimler_listesi))"
   ]
  },
  {
   "cell_type": "code",
   "execution_count": 58,
   "metadata": {},
   "outputs": [
    {
     "data": {
      "text/plain": [
       "[1, 3, 5]"
      ]
     },
     "execution_count": 58,
     "metadata": {},
     "output_type": "execute_result"
    }
   ],
   "source": [
    "list(filter((lambda x: x % 2 == 1), [1,2,3,4,5]))"
   ]
  },
  {
   "cell_type": "code",
   "execution_count": 59,
   "metadata": {},
   "outputs": [],
   "source": [
    "tek_sayı_ayıklayıcı = (lambda x: x % 2 == 1)"
   ]
  },
  {
   "cell_type": "code",
   "execution_count": 61,
   "metadata": {},
   "outputs": [
    {
     "data": {
      "text/plain": [
       "False"
      ]
     },
     "execution_count": 61,
     "metadata": {},
     "output_type": "execute_result"
    }
   ],
   "source": [
    "tek_sayı_ayıklayıcı(8)"
   ]
  },
  {
   "cell_type": "code",
   "execution_count": 62,
   "metadata": {},
   "outputs": [
    {
     "ename": "TypeError",
     "evalue": "<lambda>() takes 1 positional argument but 2 were given",
     "output_type": "error",
     "traceback": [
      "\u001b[1;31m---------------------------------------------------------------------------\u001b[0m",
      "\u001b[1;31mTypeError\u001b[0m                                 Traceback (most recent call last)",
      "Cell \u001b[1;32mIn[62], line 1\u001b[0m\n\u001b[1;32m----> 1\u001b[0m \u001b[43mtek_sayı_ayıklayıcı\u001b[49m\u001b[43m(\u001b[49m\u001b[38;5;241;43m8\u001b[39;49m\u001b[43m,\u001b[49m\u001b[38;5;241;43m9\u001b[39;49m\u001b[43m)\u001b[49m\n",
      "\u001b[1;31mTypeError\u001b[0m: <lambda>() takes 1 positional argument but 2 were given"
     ]
    }
   ],
   "source": [
    "tek_sayı_ayıklayıcı(8,9)"
   ]
  },
  {
   "cell_type": "code",
   "execution_count": 63,
   "metadata": {},
   "outputs": [
    {
     "name": "stdout",
     "output_type": "stream",
     "text": [
      "nazan\n",
      "nazan\n"
     ]
    }
   ],
   "source": [
    "print(\"nazan\")\n",
    "print(\"nazan\"[::-1] )"
   ]
  },
  {
   "cell_type": "code",
   "execution_count": 65,
   "metadata": {},
   "outputs": [
    {
     "data": {
      "text/plain": [
       "False"
      ]
     },
     "execution_count": 65,
     "metadata": {},
     "output_type": "execute_result"
    }
   ],
   "source": [
    "\"Nazan\" == \"Nazan\"[::-1]"
   ]
  },
  {
   "cell_type": "code",
   "execution_count": 67,
   "metadata": {},
   "outputs": [
    {
     "data": {
      "text/plain": [
       "True"
      ]
     },
     "execution_count": 67,
     "metadata": {},
     "output_type": "execute_result"
    }
   ],
   "source": [
    "(lambda x: x.lower() == x[::-1].lower())(\"nazan\")"
   ]
  },
  {
   "cell_type": "code",
   "execution_count": 68,
   "metadata": {},
   "outputs": [
    {
     "data": {
      "text/plain": [
       "True"
      ]
     },
     "execution_count": 68,
     "metadata": {},
     "output_type": "execute_result"
    }
   ],
   "source": [
    "(lambda x: x.lower() == x[::-1].lower())(\"ey edip adanada pide ye\")"
   ]
  },
  {
   "cell_type": "code",
   "execution_count": 69,
   "metadata": {},
   "outputs": [
    {
     "data": {
      "text/plain": [
       "False"
      ]
     },
     "execution_count": 69,
     "metadata": {},
     "output_type": "execute_result"
    }
   ],
   "source": [
    "(lambda x: x.lower() == x[::-1].lower())(\"Never odd or even\")"
   ]
  },
  {
   "cell_type": "code",
   "execution_count": 70,
   "metadata": {},
   "outputs": [
    {
     "data": {
      "text/plain": [
       "True"
      ]
     },
     "execution_count": 70,
     "metadata": {},
     "output_type": "execute_result"
    }
   ],
   "source": [
    "(lambda x: x.lower() == x[::-1].lower())(\"Neveroddoreven\")"
   ]
  },
  {
   "cell_type": "code",
   "execution_count": 3,
   "metadata": {},
   "outputs": [],
   "source": [
    "import pandas as pd"
   ]
  },
  {
   "cell_type": "code",
   "execution_count": 2,
   "metadata": {},
   "outputs": [
    {
     "name": "stdout",
     "output_type": "stream",
     "text": [
      "Collecting pandas\n",
      "  Downloading pandas-2.2.2-cp311-cp311-win_amd64.whl (11.6 MB)\n",
      "                                              0.0/11.6 MB ? eta -:--:--\n",
      "                                              0.0/11.6 MB 1.3 MB/s eta 0:00:10\n",
      "                                              0.1/11.6 MB 1.1 MB/s eta 0:00:11\n",
      "                                             0.1/11.6 MB 901.1 kB/s eta 0:00:13\n",
      "                                              0.2/11.6 MB 1.5 MB/s eta 0:00:08\n",
      "     -                                        0.4/11.6 MB 1.6 MB/s eta 0:00:07\n",
      "     -                                        0.5/11.6 MB 1.8 MB/s eta 0:00:07\n",
      "     --                                       0.7/11.6 MB 2.1 MB/s eta 0:00:06\n",
      "     ---                                      0.9/11.6 MB 2.5 MB/s eta 0:00:05\n",
      "     ---                                      0.9/11.6 MB 2.5 MB/s eta 0:00:05\n",
      "     ---                                      0.9/11.6 MB 2.5 MB/s eta 0:00:05\n",
      "     ---                                      1.1/11.6 MB 2.2 MB/s eta 0:00:05\n",
      "     ----                                     1.4/11.6 MB 2.9 MB/s eta 0:00:04\n",
      "     -----                                    1.6/11.6 MB 2.8 MB/s eta 0:00:04\n",
      "     ------                                   1.8/11.6 MB 2.8 MB/s eta 0:00:04\n",
      "     ------                                   1.9/11.6 MB 2.9 MB/s eta 0:00:04\n",
      "     -------                                  2.2/11.6 MB 3.0 MB/s eta 0:00:04\n",
      "     --------                                 2.5/11.6 MB 3.3 MB/s eta 0:00:03\n",
      "     ---------                                2.6/11.6 MB 3.3 MB/s eta 0:00:03\n",
      "     ---------                                2.9/11.6 MB 3.4 MB/s eta 0:00:03\n",
      "     ----------                               3.2/11.6 MB 3.5 MB/s eta 0:00:03\n",
      "     -----------                              3.3/11.6 MB 3.6 MB/s eta 0:00:03\n",
      "     -----------                              3.4/11.6 MB 3.4 MB/s eta 0:00:03\n",
      "     ------------                             3.6/11.6 MB 3.4 MB/s eta 0:00:03\n",
      "     -------------                            3.8/11.6 MB 3.5 MB/s eta 0:00:03\n",
      "     -------------                            3.9/11.6 MB 3.5 MB/s eta 0:00:03\n",
      "     -------------                            3.9/11.6 MB 3.5 MB/s eta 0:00:03\n",
      "     -------------                            3.9/11.6 MB 3.5 MB/s eta 0:00:03\n",
      "     -------------                            4.1/11.6 MB 3.2 MB/s eta 0:00:03\n",
      "     ---------------                          4.5/11.6 MB 3.5 MB/s eta 0:00:03\n",
      "     ----------------                         4.8/11.6 MB 3.5 MB/s eta 0:00:02\n",
      "     -----------------                        5.0/11.6 MB 3.5 MB/s eta 0:00:02\n",
      "     -----------------                        5.1/11.6 MB 3.5 MB/s eta 0:00:02\n",
      "     ------------------                       5.3/11.6 MB 3.6 MB/s eta 0:00:02\n",
      "     -------------------                      5.5/11.6 MB 3.6 MB/s eta 0:00:02\n",
      "     -------------------                      5.8/11.6 MB 3.6 MB/s eta 0:00:02\n",
      "     --------------------                     6.0/11.6 MB 3.7 MB/s eta 0:00:02\n",
      "     ---------------------                    6.2/11.6 MB 3.7 MB/s eta 0:00:02\n",
      "     ----------------------                   6.4/11.6 MB 3.7 MB/s eta 0:00:02\n",
      "     ----------------------                   6.6/11.6 MB 3.8 MB/s eta 0:00:02\n",
      "     -----------------------                  6.9/11.6 MB 3.8 MB/s eta 0:00:02\n",
      "     -----------------------                  6.9/11.6 MB 3.7 MB/s eta 0:00:02\n",
      "     ------------------------                 7.1/11.6 MB 3.7 MB/s eta 0:00:02\n",
      "     -------------------------                7.3/11.6 MB 3.8 MB/s eta 0:00:02\n",
      "     --------------------------               7.6/11.6 MB 3.8 MB/s eta 0:00:02\n",
      "     ---------------------------              7.9/11.6 MB 3.8 MB/s eta 0:00:01\n",
      "     ---------------------------              8.1/11.6 MB 3.8 MB/s eta 0:00:01\n",
      "     ----------------------------             8.2/11.6 MB 3.9 MB/s eta 0:00:01\n",
      "     ----------------------------             8.4/11.6 MB 3.9 MB/s eta 0:00:01\n",
      "     -----------------------------            8.6/11.6 MB 3.8 MB/s eta 0:00:01\n",
      "     ------------------------------           8.8/11.6 MB 3.9 MB/s eta 0:00:01\n",
      "     ------------------------------           9.0/11.6 MB 3.9 MB/s eta 0:00:01\n",
      "     -------------------------------          9.2/11.6 MB 3.9 MB/s eta 0:00:01\n",
      "     --------------------------------         9.4/11.6 MB 3.9 MB/s eta 0:00:01\n",
      "     --------------------------------         9.5/11.6 MB 3.9 MB/s eta 0:00:01\n",
      "     --------------------------------         9.5/11.6 MB 3.9 MB/s eta 0:00:01\n",
      "     ----------------------------------       9.9/11.6 MB 3.9 MB/s eta 0:00:01\n",
      "     ----------------------------------       10.0/11.6 MB 3.9 MB/s eta 0:00:01\n",
      "     -----------------------------------      10.2/11.6 MB 3.9 MB/s eta 0:00:01\n",
      "     -----------------------------------      10.4/11.6 MB 4.0 MB/s eta 0:00:01\n",
      "     ------------------------------------     10.5/11.6 MB 4.1 MB/s eta 0:00:01\n",
      "     ------------------------------------     10.7/11.6 MB 4.1 MB/s eta 0:00:01\n",
      "     -------------------------------------    10.9/11.6 MB 4.1 MB/s eta 0:00:01\n",
      "     --------------------------------------   11.1/11.6 MB 4.1 MB/s eta 0:00:01\n",
      "     --------------------------------------   11.3/11.6 MB 4.2 MB/s eta 0:00:01\n",
      "     ---------------------------------------  11.5/11.6 MB 4.2 MB/s eta 0:00:01\n",
      "     ---------------------------------------  11.6/11.6 MB 4.1 MB/s eta 0:00:01\n",
      "     ---------------------------------------- 11.6/11.6 MB 4.0 MB/s eta 0:00:00\n",
      "Collecting numpy>=1.23.2 (from pandas)\n",
      "  Downloading numpy-2.0.0-cp311-cp311-win_amd64.whl (16.5 MB)\n",
      "                                              0.0/16.5 MB ? eta -:--:--\n",
      "                                              0.2/16.5 MB 3.9 MB/s eta 0:00:05\n",
      "                                              0.4/16.5 MB 5.1 MB/s eta 0:00:04\n",
      "     -                                        0.6/16.5 MB 4.9 MB/s eta 0:00:04\n",
      "     -                                        0.7/16.5 MB 4.2 MB/s eta 0:00:04\n",
      "     --                                       0.9/16.5 MB 4.3 MB/s eta 0:00:04\n",
      "     --                                       1.1/16.5 MB 4.3 MB/s eta 0:00:04\n",
      "     ---                                      1.3/16.5 MB 4.0 MB/s eta 0:00:04\n",
      "     ---                                      1.5/16.5 MB 4.3 MB/s eta 0:00:04\n",
      "     ---                                      1.6/16.5 MB 4.2 MB/s eta 0:00:04\n",
      "     ----                                     1.8/16.5 MB 4.1 MB/s eta 0:00:04\n",
      "     ----                                     2.0/16.5 MB 4.0 MB/s eta 0:00:04\n",
      "     -----                                    2.1/16.5 MB 3.9 MB/s eta 0:00:04\n",
      "     -----                                    2.3/16.5 MB 3.9 MB/s eta 0:00:04\n",
      "     -----                                    2.5/16.5 MB 4.0 MB/s eta 0:00:04\n",
      "     ------                                   2.7/16.5 MB 4.1 MB/s eta 0:00:04\n",
      "     ------                                   2.9/16.5 MB 4.0 MB/s eta 0:00:04\n",
      "     -------                                  3.0/16.5 MB 4.0 MB/s eta 0:00:04\n",
      "     -------                                  3.2/16.5 MB 4.0 MB/s eta 0:00:04\n",
      "     --------                                 3.5/16.5 MB 4.1 MB/s eta 0:00:04\n",
      "     --------                                 3.6/16.5 MB 4.0 MB/s eta 0:00:04\n",
      "     ---------                                3.8/16.5 MB 4.1 MB/s eta 0:00:04\n",
      "     ---------                                4.0/16.5 MB 4.1 MB/s eta 0:00:04\n",
      "     ----------                               4.2/16.5 MB 4.0 MB/s eta 0:00:04\n",
      "     ----------                               4.4/16.5 MB 4.1 MB/s eta 0:00:03\n",
      "     ----------                               4.4/16.5 MB 4.1 MB/s eta 0:00:03\n",
      "     ----------                               4.5/16.5 MB 3.8 MB/s eta 0:00:04\n",
      "     -----------                              4.6/16.5 MB 3.8 MB/s eta 0:00:04\n",
      "     -----------                              4.6/16.5 MB 3.8 MB/s eta 0:00:04\n",
      "     -----------                              4.6/16.5 MB 3.8 MB/s eta 0:00:04\n",
      "     -----------                              4.6/16.5 MB 3.8 MB/s eta 0:00:04\n",
      "     ------------                             5.0/16.5 MB 3.6 MB/s eta 0:00:04\n",
      "     ------------                             5.2/16.5 MB 3.6 MB/s eta 0:00:04\n",
      "     ------------                             5.3/16.5 MB 3.6 MB/s eta 0:00:04\n",
      "     -------------                            5.4/16.5 MB 3.6 MB/s eta 0:00:04\n",
      "     -------------                            5.7/16.5 MB 3.6 MB/s eta 0:00:04\n",
      "     -------------                            5.7/16.5 MB 3.6 MB/s eta 0:00:04\n",
      "     --------------                           5.9/16.5 MB 3.6 MB/s eta 0:00:03\n",
      "     --------------                           6.0/16.5 MB 3.6 MB/s eta 0:00:03\n",
      "     --------------                           6.2/16.5 MB 3.5 MB/s eta 0:00:03\n",
      "     ---------------                          6.3/16.5 MB 3.5 MB/s eta 0:00:03\n",
      "     ---------------                          6.4/16.5 MB 3.5 MB/s eta 0:00:03\n",
      "     ----------------                         6.6/16.5 MB 3.5 MB/s eta 0:00:03\n",
      "     ----------------                         6.7/16.5 MB 3.5 MB/s eta 0:00:03\n",
      "     ----------------                         6.9/16.5 MB 3.5 MB/s eta 0:00:03\n",
      "     -----------------                        7.0/16.5 MB 3.5 MB/s eta 0:00:03\n",
      "     -----------------                        7.1/16.5 MB 3.5 MB/s eta 0:00:03\n",
      "     -----------------                        7.3/16.5 MB 3.5 MB/s eta 0:00:03\n",
      "     -----------------                        7.4/16.5 MB 3.5 MB/s eta 0:00:03\n",
      "     ------------------                       7.6/16.5 MB 3.5 MB/s eta 0:00:03\n",
      "     ------------------                       7.6/16.5 MB 3.4 MB/s eta 0:00:03\n",
      "     ------------------                       7.8/16.5 MB 3.4 MB/s eta 0:00:03\n",
      "     -------------------                      7.9/16.5 MB 3.4 MB/s eta 0:00:03\n",
      "     -------------------                      8.0/16.5 MB 3.4 MB/s eta 0:00:03\n",
      "     -------------------                      8.0/16.5 MB 3.4 MB/s eta 0:00:03\n",
      "     --------------------                     8.4/16.5 MB 3.4 MB/s eta 0:00:03\n",
      "     --------------------                     8.6/16.5 MB 3.4 MB/s eta 0:00:03\n",
      "     --------------------                     8.6/16.5 MB 3.4 MB/s eta 0:00:03\n",
      "     ---------------------                    8.8/16.5 MB 3.4 MB/s eta 0:00:03\n",
      "     ---------------------                    8.8/16.5 MB 3.4 MB/s eta 0:00:03\n",
      "     ---------------------                    9.0/16.5 MB 3.4 MB/s eta 0:00:03\n",
      "     ----------------------                   9.1/16.5 MB 3.3 MB/s eta 0:00:03\n",
      "     ----------------------                   9.2/16.5 MB 3.3 MB/s eta 0:00:03\n",
      "     ----------------------                   9.3/16.5 MB 3.3 MB/s eta 0:00:03\n",
      "     ----------------------                   9.4/16.5 MB 3.3 MB/s eta 0:00:03\n",
      "     -----------------------                  9.5/16.5 MB 3.3 MB/s eta 0:00:03\n",
      "     -----------------------                  9.6/16.5 MB 3.3 MB/s eta 0:00:03\n",
      "     -----------------------                  9.7/16.5 MB 3.2 MB/s eta 0:00:03\n",
      "     -----------------------                  9.8/16.5 MB 3.2 MB/s eta 0:00:03\n",
      "     -----------------------                  9.8/16.5 MB 3.2 MB/s eta 0:00:03\n",
      "     ------------------------                 9.9/16.5 MB 3.2 MB/s eta 0:00:03\n",
      "     ------------------------                 10.0/16.5 MB 3.2 MB/s eta 0:00:03\n",
      "     ------------------------                 10.0/16.5 MB 3.2 MB/s eta 0:00:03\n",
      "     ------------------------                 10.1/16.5 MB 3.1 MB/s eta 0:00:03\n",
      "     ------------------------                 10.3/16.5 MB 3.1 MB/s eta 0:00:03\n",
      "     -------------------------                10.4/16.5 MB 3.1 MB/s eta 0:00:03\n",
      "     -------------------------                10.5/16.5 MB 3.1 MB/s eta 0:00:02\n",
      "     -------------------------                10.6/16.5 MB 3.0 MB/s eta 0:00:02\n",
      "     -------------------------                10.7/16.5 MB 3.0 MB/s eta 0:00:02\n",
      "     --------------------------               10.8/16.5 MB 3.0 MB/s eta 0:00:02\n",
      "     --------------------------               10.9/16.5 MB 3.0 MB/s eta 0:00:02\n",
      "     --------------------------               11.1/16.5 MB 3.0 MB/s eta 0:00:02\n",
      "     ---------------------------              11.2/16.5 MB 3.0 MB/s eta 0:00:02\n",
      "     ---------------------------              11.4/16.5 MB 3.0 MB/s eta 0:00:02\n",
      "     ---------------------------              11.5/16.5 MB 3.0 MB/s eta 0:00:02\n",
      "     ---------------------------              11.6/16.5 MB 2.9 MB/s eta 0:00:02\n",
      "     ---------------------------              11.6/16.5 MB 2.9 MB/s eta 0:00:02\n",
      "     ----------------------------             11.8/16.5 MB 2.9 MB/s eta 0:00:02\n",
      "     ----------------------------             11.9/16.5 MB 2.9 MB/s eta 0:00:02\n",
      "     -----------------------------            12.0/16.5 MB 2.9 MB/s eta 0:00:02\n",
      "     -----------------------------            12.1/16.5 MB 2.9 MB/s eta 0:00:02\n",
      "     -----------------------------            12.2/16.5 MB 2.9 MB/s eta 0:00:02\n",
      "     -----------------------------            12.3/16.5 MB 2.9 MB/s eta 0:00:02\n",
      "     -----------------------------            12.3/16.5 MB 2.8 MB/s eta 0:00:02\n",
      "     ------------------------------           12.5/16.5 MB 2.8 MB/s eta 0:00:02\n",
      "     ------------------------------           12.6/16.5 MB 2.8 MB/s eta 0:00:02\n",
      "     ------------------------------           12.7/16.5 MB 2.8 MB/s eta 0:00:02\n",
      "     -------------------------------          12.8/16.5 MB 2.8 MB/s eta 0:00:02\n",
      "     -------------------------------          12.9/16.5 MB 2.7 MB/s eta 0:00:02\n",
      "     -------------------------------          13.0/16.5 MB 2.8 MB/s eta 0:00:02\n",
      "     -------------------------------          13.1/16.5 MB 2.7 MB/s eta 0:00:02\n",
      "     -------------------------------          13.2/16.5 MB 2.7 MB/s eta 0:00:02\n",
      "     --------------------------------         13.3/16.5 MB 2.7 MB/s eta 0:00:02\n",
      "     --------------------------------         13.4/16.5 MB 2.7 MB/s eta 0:00:02\n",
      "     --------------------------------         13.4/16.5 MB 2.7 MB/s eta 0:00:02\n",
      "     --------------------------------         13.6/16.5 MB 2.6 MB/s eta 0:00:02\n",
      "     ---------------------------------        13.7/16.5 MB 2.6 MB/s eta 0:00:02\n",
      "     ---------------------------------        13.8/16.5 MB 2.6 MB/s eta 0:00:02\n",
      "     ---------------------------------        13.9/16.5 MB 2.6 MB/s eta 0:00:02\n",
      "     ---------------------------------        14.0/16.5 MB 2.6 MB/s eta 0:00:01\n",
      "     ----------------------------------       14.1/16.5 MB 2.6 MB/s eta 0:00:01\n",
      "     ----------------------------------       14.2/16.5 MB 2.5 MB/s eta 0:00:01\n",
      "     ----------------------------------       14.3/16.5 MB 2.5 MB/s eta 0:00:01\n",
      "     ----------------------------------       14.4/16.5 MB 2.5 MB/s eta 0:00:01\n",
      "     -----------------------------------      14.6/16.5 MB 2.5 MB/s eta 0:00:01\n",
      "     -----------------------------------      14.6/16.5 MB 2.5 MB/s eta 0:00:01\n",
      "     -----------------------------------      14.7/16.5 MB 2.5 MB/s eta 0:00:01\n",
      "     -----------------------------------      14.8/16.5 MB 2.5 MB/s eta 0:00:01\n",
      "     ------------------------------------     15.0/16.5 MB 2.6 MB/s eta 0:00:01\n",
      "     ------------------------------------     15.0/16.5 MB 2.6 MB/s eta 0:00:01\n",
      "     ------------------------------------     15.2/16.5 MB 2.5 MB/s eta 0:00:01\n",
      "     ------------------------------------     15.2/16.5 MB 2.5 MB/s eta 0:00:01\n",
      "     ------------------------------------     15.3/16.5 MB 2.5 MB/s eta 0:00:01\n",
      "     -------------------------------------    15.3/16.5 MB 2.5 MB/s eta 0:00:01\n",
      "     -------------------------------------    15.5/16.5 MB 2.5 MB/s eta 0:00:01\n",
      "     -------------------------------------    15.6/16.5 MB 2.5 MB/s eta 0:00:01\n",
      "     -------------------------------------    15.6/16.5 MB 2.5 MB/s eta 0:00:01\n",
      "     --------------------------------------   15.8/16.5 MB 2.4 MB/s eta 0:00:01\n",
      "     --------------------------------------   15.8/16.5 MB 2.4 MB/s eta 0:00:01\n",
      "     --------------------------------------   15.9/16.5 MB 2.4 MB/s eta 0:00:01\n",
      "     --------------------------------------   16.0/16.5 MB 2.4 MB/s eta 0:00:01\n",
      "     --------------------------------------   16.1/16.5 MB 2.4 MB/s eta 0:00:01\n",
      "     ---------------------------------------  16.2/16.5 MB 2.4 MB/s eta 0:00:01\n",
      "     ---------------------------------------  16.3/16.5 MB 2.4 MB/s eta 0:00:01\n",
      "     ---------------------------------------  16.4/16.5 MB 2.4 MB/s eta 0:00:01\n",
      "     ---------------------------------------  16.5/16.5 MB 2.4 MB/s eta 0:00:01\n",
      "     ---------------------------------------- 16.5/16.5 MB 2.3 MB/s eta 0:00:00\n",
      "Requirement already satisfied: python-dateutil>=2.8.2 in c:\\users\\faruk\\appdata\\roaming\\python\\python311\\site-packages (from pandas) (2.9.0.post0)\n",
      "Collecting pytz>=2020.1 (from pandas)\n",
      "  Downloading pytz-2024.1-py2.py3-none-any.whl (505 kB)\n",
      "                                              0.0/505.5 kB ? eta -:--:--\n",
      "     -------------                          174.1/505.5 kB 3.5 MB/s eta 0:00:01\n",
      "     -----------------                      235.5/505.5 kB 2.4 MB/s eta 0:00:01\n",
      "     -----------------------------          389.1/505.5 kB 2.7 MB/s eta 0:00:01\n",
      "     ------------------------------------   481.3/505.5 kB 2.5 MB/s eta 0:00:01\n",
      "     -------------------------------------- 505.5/505.5 kB 2.4 MB/s eta 0:00:00\n",
      "Collecting tzdata>=2022.7 (from pandas)\n",
      "  Downloading tzdata-2024.1-py2.py3-none-any.whl (345 kB)\n",
      "                                              0.0/345.4 kB ? eta -:--:--\n",
      "     --------                                71.7/345.4 kB 1.9 MB/s eta 0:00:01\n",
      "     ----------------                       153.6/345.4 kB 3.1 MB/s eta 0:00:01\n",
      "     ----------------                       153.6/345.4 kB 3.1 MB/s eta 0:00:01\n",
      "     ------------------------------         276.5/345.4 kB 1.7 MB/s eta 0:00:01\n",
      "     -------------------------------------  337.9/345.4 kB 1.5 MB/s eta 0:00:01\n",
      "     -------------------------------------- 345.4/345.4 kB 1.4 MB/s eta 0:00:00\n",
      "Requirement already satisfied: six>=1.5 in c:\\users\\faruk\\appdata\\roaming\\python\\python311\\site-packages (from python-dateutil>=2.8.2->pandas) (1.16.0)\n",
      "Installing collected packages: pytz, tzdata, numpy, pandas\n",
      "Successfully installed numpy-2.0.0 pandas-2.2.2 pytz-2024.1 tzdata-2024.1\n",
      "Note: you may need to restart the kernel to use updated packages.\n"
     ]
    },
    {
     "name": "stderr",
     "output_type": "stream",
     "text": [
      "\n",
      "[notice] A new release of pip is available: 23.1.2 -> 24.1.2\n",
      "[notice] To update, run: python.exe -m pip install --upgrade pip\n"
     ]
    }
   ],
   "source": [
    "pip install pandas"
   ]
  },
  {
   "cell_type": "code",
   "execution_count": null,
   "metadata": {},
   "outputs": [],
   "source": [
    "pip3 install pandas"
   ]
  },
  {
   "cell_type": "code",
   "execution_count": null,
   "metadata": {},
   "outputs": [],
   "source": [
    "! pip install pandas"
   ]
  },
  {
   "cell_type": "code",
   "execution_count": 4,
   "metadata": {},
   "outputs": [],
   "source": [
    "import pandas as pd"
   ]
  },
  {
   "cell_type": "code",
   "execution_count": 8,
   "metadata": {},
   "outputs": [],
   "source": [
    "df = pd.read_csv(\"adult_eda.csv\")"
   ]
  },
  {
   "cell_type": "code",
   "execution_count": 9,
   "metadata": {},
   "outputs": [
    {
     "data": {
      "text/html": [
       "<div>\n",
       "<style scoped>\n",
       "    .dataframe tbody tr th:only-of-type {\n",
       "        vertical-align: middle;\n",
       "    }\n",
       "\n",
       "    .dataframe tbody tr th {\n",
       "        vertical-align: top;\n",
       "    }\n",
       "\n",
       "    .dataframe thead th {\n",
       "        text-align: right;\n",
       "    }\n",
       "</style>\n",
       "<table border=\"1\" class=\"dataframe\">\n",
       "  <thead>\n",
       "    <tr style=\"text-align: right;\">\n",
       "      <th></th>\n",
       "      <th>age</th>\n",
       "      <th>workclass</th>\n",
       "      <th>fnlwgt</th>\n",
       "      <th>education</th>\n",
       "      <th>education-num</th>\n",
       "      <th>marital-status</th>\n",
       "      <th>occupation</th>\n",
       "      <th>relationship</th>\n",
       "      <th>race</th>\n",
       "      <th>sex</th>\n",
       "      <th>capital-gain</th>\n",
       "      <th>capital-loss</th>\n",
       "      <th>hours-per-week</th>\n",
       "      <th>native-country</th>\n",
       "      <th>salary</th>\n",
       "    </tr>\n",
       "  </thead>\n",
       "  <tbody>\n",
       "    <tr>\n",
       "      <th>0</th>\n",
       "      <td>39</td>\n",
       "      <td>State-gov</td>\n",
       "      <td>77516</td>\n",
       "      <td>Bachelors</td>\n",
       "      <td>13.0</td>\n",
       "      <td>Never-married</td>\n",
       "      <td>Adm-clerical</td>\n",
       "      <td>Not-in-family</td>\n",
       "      <td>White</td>\n",
       "      <td>Male</td>\n",
       "      <td>2174</td>\n",
       "      <td>0</td>\n",
       "      <td>40</td>\n",
       "      <td>United-States</td>\n",
       "      <td>&lt;=50K</td>\n",
       "    </tr>\n",
       "    <tr>\n",
       "      <th>1</th>\n",
       "      <td>50</td>\n",
       "      <td>Self-emp-not-inc</td>\n",
       "      <td>83311</td>\n",
       "      <td>Bachelors</td>\n",
       "      <td>13.0</td>\n",
       "      <td>Married-civ-spouse</td>\n",
       "      <td>Exec-managerial</td>\n",
       "      <td>Husband</td>\n",
       "      <td>White</td>\n",
       "      <td>Male</td>\n",
       "      <td>0</td>\n",
       "      <td>0</td>\n",
       "      <td>13</td>\n",
       "      <td>United-States</td>\n",
       "      <td>&lt;=50K</td>\n",
       "    </tr>\n",
       "    <tr>\n",
       "      <th>2</th>\n",
       "      <td>38</td>\n",
       "      <td>Private</td>\n",
       "      <td>215646</td>\n",
       "      <td>HS-grad</td>\n",
       "      <td>9.0</td>\n",
       "      <td>Divorced</td>\n",
       "      <td>Handlers-cleaners</td>\n",
       "      <td>Not-in-family</td>\n",
       "      <td>White</td>\n",
       "      <td>Male</td>\n",
       "      <td>0</td>\n",
       "      <td>0</td>\n",
       "      <td>40</td>\n",
       "      <td>United-States</td>\n",
       "      <td>&lt;=50K</td>\n",
       "    </tr>\n",
       "    <tr>\n",
       "      <th>3</th>\n",
       "      <td>53</td>\n",
       "      <td>Private</td>\n",
       "      <td>234721</td>\n",
       "      <td>11th</td>\n",
       "      <td>7.0</td>\n",
       "      <td>Married-civ-spouse</td>\n",
       "      <td>Handlers-cleaners</td>\n",
       "      <td>Husband</td>\n",
       "      <td>Black</td>\n",
       "      <td>Male</td>\n",
       "      <td>0</td>\n",
       "      <td>0</td>\n",
       "      <td>40</td>\n",
       "      <td>United-States</td>\n",
       "      <td>&lt;=50K</td>\n",
       "    </tr>\n",
       "    <tr>\n",
       "      <th>4</th>\n",
       "      <td>28</td>\n",
       "      <td>Private</td>\n",
       "      <td>338409</td>\n",
       "      <td>Bachelors</td>\n",
       "      <td>13.0</td>\n",
       "      <td>Married-civ-spouse</td>\n",
       "      <td>Prof-specialty</td>\n",
       "      <td>Wife</td>\n",
       "      <td>Black</td>\n",
       "      <td>Female</td>\n",
       "      <td>0</td>\n",
       "      <td>0</td>\n",
       "      <td>40</td>\n",
       "      <td>Cuba</td>\n",
       "      <td>&lt;=50K</td>\n",
       "    </tr>\n",
       "    <tr>\n",
       "      <th>...</th>\n",
       "      <td>...</td>\n",
       "      <td>...</td>\n",
       "      <td>...</td>\n",
       "      <td>...</td>\n",
       "      <td>...</td>\n",
       "      <td>...</td>\n",
       "      <td>...</td>\n",
       "      <td>...</td>\n",
       "      <td>...</td>\n",
       "      <td>...</td>\n",
       "      <td>...</td>\n",
       "      <td>...</td>\n",
       "      <td>...</td>\n",
       "      <td>...</td>\n",
       "      <td>...</td>\n",
       "    </tr>\n",
       "    <tr>\n",
       "      <th>32556</th>\n",
       "      <td>27</td>\n",
       "      <td>Private</td>\n",
       "      <td>257302</td>\n",
       "      <td>Assoc-acdm</td>\n",
       "      <td>12.0</td>\n",
       "      <td>Married-civ-spouse</td>\n",
       "      <td>Tech-support</td>\n",
       "      <td>Wife</td>\n",
       "      <td>White</td>\n",
       "      <td>Female</td>\n",
       "      <td>0</td>\n",
       "      <td>0</td>\n",
       "      <td>38</td>\n",
       "      <td>United-States</td>\n",
       "      <td>&lt;=50K</td>\n",
       "    </tr>\n",
       "    <tr>\n",
       "      <th>32557</th>\n",
       "      <td>40</td>\n",
       "      <td>Private</td>\n",
       "      <td>154374</td>\n",
       "      <td>HS-grad</td>\n",
       "      <td>9.0</td>\n",
       "      <td>Married-civ-spouse</td>\n",
       "      <td>Machine-op-inspct</td>\n",
       "      <td>Husband</td>\n",
       "      <td>White</td>\n",
       "      <td>Male</td>\n",
       "      <td>0</td>\n",
       "      <td>0</td>\n",
       "      <td>40</td>\n",
       "      <td>United-States</td>\n",
       "      <td>&gt;50K</td>\n",
       "    </tr>\n",
       "    <tr>\n",
       "      <th>32558</th>\n",
       "      <td>58</td>\n",
       "      <td>Private</td>\n",
       "      <td>151910</td>\n",
       "      <td>HS-grad</td>\n",
       "      <td>9.0</td>\n",
       "      <td>Widowed</td>\n",
       "      <td>Adm-clerical</td>\n",
       "      <td>Unmarried</td>\n",
       "      <td>White</td>\n",
       "      <td>Female</td>\n",
       "      <td>0</td>\n",
       "      <td>0</td>\n",
       "      <td>40</td>\n",
       "      <td>United-States</td>\n",
       "      <td>&lt;=50K</td>\n",
       "    </tr>\n",
       "    <tr>\n",
       "      <th>32559</th>\n",
       "      <td>22</td>\n",
       "      <td>Private</td>\n",
       "      <td>201490</td>\n",
       "      <td>HS-grad</td>\n",
       "      <td>9.0</td>\n",
       "      <td>Never-married</td>\n",
       "      <td>Adm-clerical</td>\n",
       "      <td>NaN</td>\n",
       "      <td>White</td>\n",
       "      <td>Male</td>\n",
       "      <td>0</td>\n",
       "      <td>0</td>\n",
       "      <td>20</td>\n",
       "      <td>United-States</td>\n",
       "      <td>&lt;=50K</td>\n",
       "    </tr>\n",
       "    <tr>\n",
       "      <th>32560</th>\n",
       "      <td>52</td>\n",
       "      <td>Self-emp-inc</td>\n",
       "      <td>287927</td>\n",
       "      <td>HS-grad</td>\n",
       "      <td>9.0</td>\n",
       "      <td>Married-civ-spouse</td>\n",
       "      <td>Exec-managerial</td>\n",
       "      <td>Wife</td>\n",
       "      <td>White</td>\n",
       "      <td>Female</td>\n",
       "      <td>15024</td>\n",
       "      <td>0</td>\n",
       "      <td>40</td>\n",
       "      <td>United-States</td>\n",
       "      <td>&gt;50K</td>\n",
       "    </tr>\n",
       "  </tbody>\n",
       "</table>\n",
       "<p>32561 rows × 15 columns</p>\n",
       "</div>"
      ],
      "text/plain": [
       "       age         workclass  fnlwgt   education  education-num  \\\n",
       "0       39         State-gov   77516   Bachelors           13.0   \n",
       "1       50  Self-emp-not-inc   83311   Bachelors           13.0   \n",
       "2       38           Private  215646     HS-grad            9.0   \n",
       "3       53           Private  234721        11th            7.0   \n",
       "4       28           Private  338409   Bachelors           13.0   \n",
       "...    ...               ...     ...         ...            ...   \n",
       "32556   27           Private  257302  Assoc-acdm           12.0   \n",
       "32557   40           Private  154374     HS-grad            9.0   \n",
       "32558   58           Private  151910     HS-grad            9.0   \n",
       "32559   22           Private  201490     HS-grad            9.0   \n",
       "32560   52      Self-emp-inc  287927     HS-grad            9.0   \n",
       "\n",
       "           marital-status         occupation   relationship   race     sex  \\\n",
       "0           Never-married       Adm-clerical  Not-in-family  White    Male   \n",
       "1      Married-civ-spouse    Exec-managerial        Husband  White    Male   \n",
       "2                Divorced  Handlers-cleaners  Not-in-family  White    Male   \n",
       "3      Married-civ-spouse  Handlers-cleaners        Husband  Black    Male   \n",
       "4      Married-civ-spouse     Prof-specialty           Wife  Black  Female   \n",
       "...                   ...                ...            ...    ...     ...   \n",
       "32556  Married-civ-spouse       Tech-support           Wife  White  Female   \n",
       "32557  Married-civ-spouse  Machine-op-inspct        Husband  White    Male   \n",
       "32558             Widowed       Adm-clerical      Unmarried  White  Female   \n",
       "32559       Never-married       Adm-clerical            NaN  White    Male   \n",
       "32560  Married-civ-spouse    Exec-managerial           Wife  White  Female   \n",
       "\n",
       "       capital-gain  capital-loss  hours-per-week native-country salary  \n",
       "0              2174             0              40  United-States  <=50K  \n",
       "1                 0             0              13  United-States  <=50K  \n",
       "2                 0             0              40  United-States  <=50K  \n",
       "3                 0             0              40  United-States  <=50K  \n",
       "4                 0             0              40           Cuba  <=50K  \n",
       "...             ...           ...             ...            ...    ...  \n",
       "32556             0             0              38  United-States  <=50K  \n",
       "32557             0             0              40  United-States   >50K  \n",
       "32558             0             0              40  United-States  <=50K  \n",
       "32559             0             0              20  United-States  <=50K  \n",
       "32560         15024             0              40  United-States   >50K  \n",
       "\n",
       "[32561 rows x 15 columns]"
      ]
     },
     "execution_count": 9,
     "metadata": {},
     "output_type": "execute_result"
    }
   ],
   "source": [
    "df"
   ]
  },
  {
   "cell_type": "code",
   "execution_count": 10,
   "metadata": {},
   "outputs": [
    {
     "data": {
      "text/plain": [
       "0          Male\n",
       "1          Male\n",
       "2          Male\n",
       "3          Male\n",
       "4        Female\n",
       "          ...  \n",
       "32556    Female\n",
       "32557      Male\n",
       "32558    Female\n",
       "32559      Male\n",
       "32560    Female\n",
       "Name: sex, Length: 32561, dtype: object"
      ]
     },
     "execution_count": 10,
     "metadata": {},
     "output_type": "execute_result"
    }
   ],
   "source": [
    "df.sex"
   ]
  },
  {
   "cell_type": "code",
   "execution_count": 11,
   "metadata": {},
   "outputs": [
    {
     "data": {
      "text/plain": [
       "0        0\n",
       "1        0\n",
       "2        0\n",
       "3        0\n",
       "4        1\n",
       "        ..\n",
       "32556    1\n",
       "32557    0\n",
       "32558    1\n",
       "32559    0\n",
       "32560    1\n",
       "Name: sex, Length: 32561, dtype: int64"
      ]
     },
     "execution_count": 11,
     "metadata": {},
     "output_type": "execute_result"
    }
   ],
   "source": [
    "df.sex.apply(lambda x: 0 if x == \"Male\" else 1)"
   ]
  },
  {
   "cell_type": "code",
   "execution_count": null,
   "metadata": {},
   "outputs": [],
   "source": []
  }
 ],
 "metadata": {
  "kernelspec": {
   "display_name": "base",
   "language": "python",
   "name": "python3"
  },
  "language_info": {
   "codemirror_mode": {
    "name": "ipython",
    "version": 3
   },
   "file_extension": ".py",
   "mimetype": "text/x-python",
   "name": "python",
   "nbconvert_exporter": "python",
   "pygments_lexer": "ipython3",
   "version": "3.11.4"
  }
 },
 "nbformat": 4,
 "nbformat_minor": 2
}
